{
 "cells": [
  {
   "cell_type": "markdown",
   "id": "2c385b6a-4065-4909-9a90-8f2c2dddc6ce",
   "metadata": {},
   "source": [
    "# My Jupyter Notebook on IBM Watson Studio"
   ]
  },
  {
   "cell_type": "markdown",
   "id": "b96bbe66-f2d5-4245-b9fa-9d0282916406",
   "metadata": {},
   "source": [
    "## Subramani M\n",
    "Student"
   ]
  },
  {
   "cell_type": "markdown",
   "id": "1d46e3b9-3a09-4400-85cb-dbd7015540ce",
   "metadata": {},
   "source": [
    "_I am interested in data science because I love telling Stories with data and using data to help bring that data to life . As a data scientist I can turn seemingly meaningless data into a recommendation to help a company improve its product,services,or experiences. This can help a business grow or get more clients.That why I am very much interested in data science_  "
   ]
  },
  {
   "cell_type": "code",
   "execution_count": 5,
   "id": "36ba8ed7-dcd5-46a0-85df-21de221c73e0",
   "metadata": {},
   "outputs": [],
   "source": [
    "# creating two veriables and using some maths"
   ]
  },
  {
   "cell_type": "code",
   "execution_count": 6,
   "id": "4ce4f087-8631-4431-98e8-6d4101fe81ee",
   "metadata": {},
   "outputs": [
    {
     "name": "stdout",
     "output_type": "stream",
     "text": [
      "35\n",
      "-15\n",
      "250\n",
      "2.5\n"
     ]
    }
   ],
   "source": [
    "X=25\n",
    "Y=10\n",
    "C= X+Y\n",
    "D= Y-X\n",
    "A= X*Y\n",
    "B= X/Y\n",
    "print(C)\n",
    "print(D)\n",
    "print(A)\n",
    "print(B)"
   ]
  },
  {
   "cell_type": "markdown",
   "id": "c1ad3659-1f02-4f43-87ed-00588125ddc8",
   "metadata": {},
   "source": [
    "## Strikethrough:\n",
    " My name is ~~Subramani~~\n",
    "    \n",
    "## Tables:\n",
    "\n",
    "|S.no|Name|Age|Gender|\n",
    "|---|---|---|---|\n",
    "|1|Subramani|21|Male|\n",
    "|2|Desika|22|Female|\n",
    "|3|Karthik|23|Male|\n",
    "|4|Pavithra|22|Female|\n",
    "\n",
    "## Horizontal rule:\n",
    "\n",
    "This is a content above the horizontal rule\n",
    "***\n",
    "This is a content above the horizontal rule"
   ]
  },
  {
   "cell_type": "code",
   "execution_count": null,
   "id": "3e1a809b-1733-41c6-a7b1-851e8934e5ad",
   "metadata": {},
   "outputs": [],
   "source": []
  }
 ],
 "metadata": {
  "kernelspec": {
   "display_name": "Python",
   "language": "python",
   "name": "conda-env-python-py"
  },
  "language_info": {
   "codemirror_mode": {
    "name": "ipython",
    "version": 3
   },
   "file_extension": ".py",
   "mimetype": "text/x-python",
   "name": "python",
   "nbconvert_exporter": "python",
   "pygments_lexer": "ipython3",
   "version": "3.7.12"
  }
 },
 "nbformat": 4,
 "nbformat_minor": 5
}
